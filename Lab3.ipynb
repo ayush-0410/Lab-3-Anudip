{
 "cells": [
  {
   "cell_type": "code",
   "execution_count": 14,
   "id": "8eb6e2b1-d94a-4c32-a154-873eed88153f",
   "metadata": {},
   "outputs": [
    {
     "name": "stdout",
     "output_type": "stream",
     "text": [
      "Total revenue [ 950 1300 1500 1150]\n"
     ]
    }
   ],
   "source": [
    "import numpy as np\n",
    "cateogary1_revenue=np.array([500,600,700,550])\n",
    "cateogary2_revenue=np.array([450,700,800,600])\n",
    "total_revenue= cateogary1_revenue + cateogary2_revenue\n",
    "print(\"Total revenue\",total_revenue)"
   ]
  },
  {
   "cell_type": "code",
   "execution_count": 16,
   "id": "4912ed60-c984-4057-9c8b-5ad7f7c2ce2b",
   "metadata": {},
   "outputs": [
    {
     "name": "stdout",
     "output_type": "stream",
     "text": [
      "The profit is :  [6000 7000 6500 5700]\n"
     ]
    }
   ],
   "source": [
    "import numpy as np\n",
    "revenue = np.array([10000,12000,11000,10500])\n",
    "expenses = np.array([4000,5000,4500,4800])\n",
    "profit = revenue-expenses\n",
    "print(\"The profit is : \",profit)"
   ]
  },
  {
   "cell_type": "code",
   "execution_count": 42,
   "id": "dd8984bc-0eac-48a6-9d0b-9c88940d473f",
   "metadata": {},
   "outputs": [
    {
     "name": "stdout",
     "output_type": "stream",
     "text": [
      "products out of stock [False  True False  True False  True]\n"
     ]
    }
   ],
   "source": [
    "import numpy as np\n",
    "\n",
    "inventory = np.array([10,0,5,0,20,0])\n",
    "out_of_stock = inventory == 0\n",
    "outofstock_quantity = inventory[out_of_stock]\n",
    "print(\"products out of stock\",out_of_stock)\n",
    "\n"
   ]
  },
  {
   "cell_type": "code",
   "execution_count": 64,
   "id": "7d534730-ebcd-4d09-a0a9-77be20a11de6",
   "metadata": {},
   "outputs": [
    {
     "name": "stdout",
     "output_type": "stream",
     "text": [
      "[20. 24. 20. 12.]\n"
     ]
    }
   ],
   "source": [
    "import numpy as np\n",
    "quantity = np.array([2,3,4,1])\n",
    "price_per_item = np.array([10.0,8.0,5.0,12.0])\n",
    "total_cost = quantity*price_per_item\n",
    "print(total_cost)"
   ]
  },
  {
   "cell_type": "code",
   "execution_count": null,
   "id": "5a708e7f-89ca-4e7b-bbde-12d96d7d8d10",
   "metadata": {},
   "outputs": [],
   "source": []
  }
 ],
 "metadata": {
  "kernelspec": {
   "display_name": "Python 3 (ipykernel)",
   "language": "python",
   "name": "python3"
  },
  "language_info": {
   "codemirror_mode": {
    "name": "ipython",
    "version": 3
   },
   "file_extension": ".py",
   "mimetype": "text/x-python",
   "name": "python",
   "nbconvert_exporter": "python",
   "pygments_lexer": "ipython3",
   "version": "3.12.4"
  }
 },
 "nbformat": 4,
 "nbformat_minor": 5
}
